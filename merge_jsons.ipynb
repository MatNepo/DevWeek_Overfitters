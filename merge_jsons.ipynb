{
  "nbformat": 4,
  "nbformat_minor": 0,
  "metadata": {
    "colab": {
      "provenance": []
    },
    "kernelspec": {
      "name": "python3",
      "display_name": "Python 3"
    },
    "language_info": {
      "name": "python"
    }
  },
  "cells": [
    {
      "cell_type": "markdown",
      "source": [
        "# Что тут происходит? Зачем вообще нужен этот файл?\n",
        "\n",
        "Скорость обработки видео с помощью `DAMO-NLP-SG/VideoLLaMA3-7B` составляет примерно 100 видео в час. Чтобы распараллелить этот процесс мы параллельно запускали несколько ноутбуков (внутри одного блокнота максимум 3 параллельных сессии). Этот файл нужен для того, чтобы объединить те файлы .json, которые мы получили для различных групп видео. Также, здесь для удобства реализована сортировка файлов в том же порядке, в котором они представлены в [таблице](https://s3.ritm.media/hackaton-itmo/task.csv)."
      ],
      "metadata": {
        "id": "cp6YRc-HoCoy"
      }
    },
    {
      "cell_type": "markdown",
      "source": [
        "Формат JSON'а на вход (тот файл, который был получен после запуска `vide_to_text.ipynb`):\n",
        "\n",
        "```\n",
        "[\n",
        "  {\n",
        "    \"id\":\"1\",\n",
        "    \"filename\": \"bde2e7b0-0774-4a72-bb3b-57515512acd9.mp4\",\n",
        "    \"description\": \"Тут хранится текстовое описание по видео.\",\n",
        "    \"transcription\": \"Тут хранится текстовое описание по аудио.\"\n",
        "  },\n",
        "  ...\n",
        "]\n",
        "```"
      ],
      "metadata": {
        "id": "m_94SB0nsHQ4"
      }
    },
    {
      "cell_type": "markdown",
      "source": [
        "Формат выходного JSON соответствует тому, что указан выше, тут происходит просто объединение файлов."
      ],
      "metadata": {
        "id": "8GzZASLFs5l_"
      }
    },
    {
      "cell_type": "markdown",
      "source": [
        "Пример структуры файлов:\n",
        "\n",
        "```\n",
        "./files_to_merge\n",
        "    |-- video_descriptions_0_200.json\n",
        "    |-- video_descriptions_200_2390.json\n",
        "    |-- video_descriptions_2400_2600.json\n",
        "    |-- video_descriptions_2600_2800.json\n",
        "    |-- video_descriptions_2800_3000.json\n",
        "    |-- video_descriptions_3000_3200.json\n",
        "    |-- video_descriptions_3200_3400.json\n",
        "    |-- video_descriptions_3400_3600.json\n",
        "    `-- video_descriptions_3600_3800.json\n",
        "```"
      ],
      "metadata": {
        "id": "4-8gphrtrIQi"
      }
    },
    {
      "cell_type": "markdown",
      "source": [
        "**ВАЖНО** : Перед запуском файла необходимо загрузить в папку `files_to_merge` те файлы, которые надо объединить."
      ],
      "metadata": {
        "id": "ATNFJg7Tp8GE"
      }
    },
    {
      "cell_type": "markdown",
      "source": [
        "# Запуск"
      ],
      "metadata": {
        "id": "Jelia54MwT7F"
      }
    },
    {
      "cell_type": "code",
      "execution_count": 8,
      "metadata": {
        "colab": {
          "base_uri": "https://localhost:8080/"
        },
        "id": "8NKUY5tIVm3-",
        "outputId": "97701005-67ef-42c9-ec73-26c3e3c7e7fc"
      },
      "outputs": [
        {
          "output_type": "stream",
          "name": "stdout",
          "text": [
            "Итог сохранён в: merged_ordered_10040.json\n"
          ]
        }
      ],
      "source": [
        "import os\n",
        "import json\n",
        "import pandas as pd\n",
        "\n",
        "# Папка с JSON-файлами\n",
        "merge_dir = \"files_to_merge\"\n",
        "\n",
        "# Загрузка таблицы\n",
        "csv_url = \"https://s3.ritm.media/hackaton-itmo/task.csv\"\n",
        "df_order = pd.read_csv(csv_url)\n",
        "\n",
        "# Извлекаем имя файла из URL\n",
        "df_order[\"filename\"] = df_order[\"video_link\"].apply(lambda x: x.strip().split(\"/\")[-1])\n",
        "\n",
        "# Загружаем все JSON-файлы\n",
        "all_data = []\n",
        "for file in os.listdir(merge_dir):\n",
        "    if file.endswith(\".json\"):\n",
        "        with open(os.path.join(merge_dir, file), \"r\", encoding=\"utf-8\") as f:\n",
        "            try:\n",
        "                data = json.load(f)\n",
        "                all_data.extend(data)\n",
        "            except Exception as e:\n",
        "                pass  # можно включить логирование при необходимости\n",
        "\n",
        "# Преобразуем к словарю по filename\n",
        "data_by_filename = {item[\"filename\"]: item for item in all_data if \"filename\" in item}\n",
        "\n",
        "# Финальный список\n",
        "merged_ordered = []\n",
        "for idx, filename in enumerate(df_order[\"filename\"], start=1):\n",
        "    item = data_by_filename.get(filename)\n",
        "    if item:\n",
        "        result_item = {\n",
        "            \"id\": idx,\n",
        "            \"filename\": filename,\n",
        "            \"description\": item.get(\"description\", \"\"),\n",
        "            \"transcription\": item.get(\"transcription\", \"\")\n",
        "        }\n",
        "        merged_ordered.append(result_item)\n",
        "\n",
        "# Сохраняем файл\n",
        "output_filename = f\"merged_ordered_{len(merged_ordered)}.json\"\n",
        "with open(output_filename, \"w\", encoding=\"utf-8\") as f:\n",
        "    json.dump(merged_ordered, f, ensure_ascii=False, indent=2)\n",
        "\n",
        "print(f\"Итог сохранён в: {output_filename}\")"
      ]
    },
    {
      "cell_type": "markdown",
      "source": [
        "# Скачать JSON"
      ],
      "metadata": {
        "id": "kVxTp13YHIGp"
      }
    },
    {
      "cell_type": "code",
      "source": [
        "from google.colab import files\n",
        "files.download(output_filename)"
      ],
      "metadata": {
        "id": "WenNJMtlHGAh"
      },
      "execution_count": null,
      "outputs": []
    }
  ]
}